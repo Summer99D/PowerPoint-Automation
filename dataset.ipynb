{
 "cells": [
  {
   "cell_type": "markdown",
   "metadata": {},
   "source": [
    "## Powerpoint Automation sample\n",
    "\n",
    "### This is going to be a sample  powerpoint automation script for python!\n",
    "\n",
    "### Author: Summer (Samar) Negahdar\n",
    "\n",
    "### August 2025"
   ]
  },
  {
   "cell_type": "code",
   "execution_count": 2,
   "metadata": {},
   "outputs": [],
   "source": [
    "## first of all I am going to create a powerpoint tempelate\n",
    "\n",
    "\n",
    "#Now I am uploading libraries\n",
    "import pandas as pd\n",
    "import matplotlib.pyplot as plt\n",
    "import seaborn as sns\n",
    "from pptx import Presentation\n",
    "from pptx.util import Inches\n",
    "from datetime import timedelta\n",
    "import yfinance as yf\n"
   ]
  },
  {
   "cell_type": "code",
   "execution_count": 3,
   "metadata": {},
   "outputs": [],
   "source": [
    "## I will also load my sample datasets\n",
    "## (here I am using s%P500 index and stock data sets)\n",
    "\n",
    "SP_index= pd.read_csv(\"datasets/sp500_index.csv\")\n",
    "SP_stock= pd.read_csv(\"datasets/sp500_stocks.csv\")"
   ]
  },
  {
   "cell_type": "code",
   "execution_count": 4,
   "metadata": {},
   "outputs": [
    {
     "name": "stdout",
     "output_type": "stream",
     "text": [
      "<bound method NDFrame.head of             Date   S&P500\n",
      "0     2014-12-22  2078.54\n",
      "1     2014-12-23  2082.17\n",
      "2     2014-12-24  2081.88\n",
      "3     2014-12-26  2088.77\n",
      "4     2014-12-29  2090.57\n",
      "...          ...      ...\n",
      "2512  2024-12-16  6074.08\n",
      "2513  2024-12-17  6050.61\n",
      "2514  2024-12-18  5872.16\n",
      "2515  2024-12-19  5867.08\n",
      "2516  2024-12-20  5930.85\n",
      "\n",
      "[2517 rows x 2 columns]>\n",
      "Date      0\n",
      "S&P500    0\n",
      "dtype: int64\n"
     ]
    }
   ],
   "source": [
    "## I will just inspect  index data\n",
    "print( SP_index.head)\n",
    "print(SP_index.isna().sum())\n"
   ]
  },
  {
   "cell_type": "code",
   "execution_count": 5,
   "metadata": {},
   "outputs": [
    {
     "name": "stdout",
     "output_type": "stream",
     "text": [
      "            S&P500\n",
      "count  2517.000000\n",
      "mean   3346.351605\n",
      "std    1078.204274\n",
      "min    1829.080000\n",
      "25%    2428.370000\n",
      "50%    2999.910000\n",
      "75%    4199.120000\n",
      "max    6090.270000\n"
     ]
    }
   ],
   "source": [
    "print(SP_index.describe())"
   ]
  },
  {
   "cell_type": "code",
   "execution_count": 6,
   "metadata": {},
   "outputs": [
    {
     "name": "stdout",
     "output_type": "stream",
     "text": [
      "<bound method NDFrame.head of                Date Symbol  Adj Close  Close  High  Low  Open  Volume\n",
      "0        2010-01-04    MMM        NaN    NaN   NaN  NaN   NaN     NaN\n",
      "1        2010-01-05    MMM        NaN    NaN   NaN  NaN   NaN     NaN\n",
      "2        2010-01-06    MMM        NaN    NaN   NaN  NaN   NaN     NaN\n",
      "3        2010-01-07    MMM        NaN    NaN   NaN  NaN   NaN     NaN\n",
      "4        2010-01-08    MMM        NaN    NaN   NaN  NaN   NaN     NaN\n",
      "...             ...    ...        ...    ...   ...  ...   ...     ...\n",
      "1891531  2024-12-16    ZTS        NaN    NaN   NaN  NaN   NaN     NaN\n",
      "1891532  2024-12-17    ZTS        NaN    NaN   NaN  NaN   NaN     NaN\n",
      "1891533  2024-12-18    ZTS        NaN    NaN   NaN  NaN   NaN     NaN\n",
      "1891534  2024-12-19    ZTS        NaN    NaN   NaN  NaN   NaN     NaN\n",
      "1891535  2024-12-20    ZTS        NaN    NaN   NaN  NaN   NaN     NaN\n",
      "\n",
      "[1891536 rows x 8 columns]>\n",
      "Date               0\n",
      "Symbol             0\n",
      "Adj Close    1273705\n",
      "Close        1273705\n",
      "High         1273705\n",
      "Low          1273705\n",
      "Open         1273705\n",
      "Volume       1273705\n",
      "dtype: int64\n"
     ]
    }
   ],
   "source": [
    "print(SP_stock.head)\n",
    "print(SP_stock.isna().sum())"
   ]
  },
  {
   "cell_type": "markdown",
   "metadata": {},
   "source": [
    "there are a lot of NaNs in most rows, we usually fill them with mean or median. here, I am goint to wait until merge and then fill them with S&P500 index"
   ]
  },
  {
   "cell_type": "code",
   "execution_count": 7,
   "metadata": {},
   "outputs": [
    {
     "name": "stdout",
     "output_type": "stream",
     "text": [
      "           Adj Close          Close           High            Low  \\\n",
      "count  617831.000000  617831.000000  617831.000000  617831.000000   \n",
      "mean       79.672357      87.471540      88.417844      86.480997   \n",
      "std       102.742931     104.521901     105.684113     103.300770   \n",
      "min         0.203593       0.222000       0.226250       0.216250   \n",
      "25%        26.572459      32.700001      33.060001      32.299999   \n",
      "50%        49.821613      59.139999      59.720001      58.500000   \n",
      "75%        94.831036     105.019997     106.129997     103.889999   \n",
      "max      1702.530029    1702.530029    1714.750000    1696.900024   \n",
      "\n",
      "                Open        Volume  \n",
      "count  617831.000000  6.178310e+05  \n",
      "mean       87.460302  9.347125e+06  \n",
      "std       104.519845  4.771669e+07  \n",
      "min         0.218000  0.000000e+00  \n",
      "25%        32.689999  1.144000e+06  \n",
      "50%        59.119999  2.453400e+06  \n",
      "75%       105.000000  5.657850e+06  \n",
      "max      1706.400024  3.692928e+09  \n"
     ]
    }
   ],
   "source": [
    "print(SP_stock.describe())"
   ]
  },
  {
   "cell_type": "code",
   "execution_count": 8,
   "metadata": {},
   "outputs": [],
   "source": [
    "## I will just merge them on \"date\" column\n",
    "merged_df= pd.merge(SP_index, SP_stock, on= \"Date\", how= \"inner\")\n",
    "\n"
   ]
  },
  {
   "cell_type": "code",
   "execution_count": 9,
   "metadata": {},
   "outputs": [],
   "source": [
    "##now I am just going to make sure it is date.time format\n",
    "merged_df['Date']= pd.to_datetime(merged_df['Date'])\n",
    "\n",
    "## I remove the time factor form Date column\n",
    "merged_df['Date']= merged_df['Date'].dt.date"
   ]
  },
  {
   "cell_type": "code",
   "execution_count": 10,
   "metadata": {},
   "outputs": [],
   "source": [
    "# Fill missing values in all columns with their respective column means\n",
    "for column in merged_df.select_dtypes(include=['float64', 'int64']).columns:\n",
    "    merged_df[column] = merged_df[column].fillna(merged_df[column].mean())\n"
   ]
  },
  {
   "cell_type": "code",
   "execution_count": 11,
   "metadata": {},
   "outputs": [
    {
     "name": "stdout",
     "output_type": "stream",
     "text": [
      "the dataset cover stockcs and S&P500 index from 2014-12-22 to 2024-12-20\n"
     ]
    }
   ],
   "source": [
    "## the available range is going to be:\n",
    "start= merged_df['Date'].min()\n",
    "end= merged_df['Date'].max()\n",
    "\n",
    "print(\"the dataset cover stockcs and S&P500 index from\", start, \"to\", end)"
   ]
  },
  {
   "cell_type": "code",
   "execution_count": 12,
   "metadata": {},
   "outputs": [],
   "source": [
    "## Now I will save it as a csv file\n",
    "merged_df.to_csv('datasets/merged_sp500.csv', index=False)\n"
   ]
  },
  {
   "cell_type": "code",
   "execution_count": 13,
   "metadata": {},
   "outputs": [
    {
     "name": "stdout",
     "output_type": "stream",
     "text": [
      "['MMM' 'AOS' 'ABT' 'ABBV' 'ACN' 'ADBE' 'AMD' 'AES' 'AFL' 'A' 'APD' 'ABNB'\n",
      " 'AKAM' 'ALB' 'ARE' 'ALGN' 'ALLE' 'LNT' 'ALL' 'GOOGL' 'GOOG' 'MO' 'AMZN'\n",
      " 'AMCR' 'AMTM' 'AEE' 'AEP' 'AXP' 'AIG' 'AMT' 'AWK' 'AMP' 'AME' 'AMGN'\n",
      " 'APH' 'ADI' 'ANSS' 'AON' 'APA' 'AAPL' 'AMAT' 'APTV' 'ACGL' 'ADM' 'ANET'\n",
      " 'AJG' 'AIZ' 'T' 'ATO' 'ADSK' 'ADP' 'AZO' 'AVB' 'AVY' 'AXON' 'BKR' 'BALL'\n",
      " 'BAC' 'BAX' 'BDX' 'BRK-B' 'BBY' 'TECH' 'BIIB' 'BLK' 'BX' 'BK' 'BA' 'BKNG'\n",
      " 'BWA' 'BSX' 'BMY' 'AVGO' 'BR' 'BRO' 'BF-B' 'BLDR' 'BG' 'BXP' 'CHRW'\n",
      " 'CDNS' 'CZR' 'CPT' 'CPB' 'COF' 'CAH' 'KMX' 'CCL' 'CARR' 'CAT' 'CBOE'\n",
      " 'CBRE' 'CDW' 'CE' 'COR' 'CNC' 'CNP' 'CF' 'CRL' 'SCHW' 'CHTR' 'CVX' 'CMG'\n",
      " 'CB' 'CHD' 'CI' 'CINF' 'CTAS' 'CSCO' 'C' 'CFG' 'CLX' 'CME' 'CMS' 'KO'\n",
      " 'CTSH' 'CL' 'CMCSA' 'CAG' 'COP' 'ED' 'STZ' 'CEG' 'COO' 'CPRT' 'GLW'\n",
      " 'CPAY' 'CTVA' 'CSGP' 'COST' 'CTRA' 'CRWD' 'CCI' 'CSX' 'CMI' 'CVS' 'DHR'\n",
      " 'DRI' 'DVA' 'DAY' 'DECK' 'DE' 'DELL' 'DAL' 'DVN' 'DXCM' 'FANG' 'DLR'\n",
      " 'DFS' 'DG' 'DLTR' 'D' 'DPZ' 'DOV' 'DOW' 'DHI' 'DTE' 'DUK' 'DD' 'EMN'\n",
      " 'ETN' 'EBAY' 'ECL' 'EIX' 'EW' 'EA' 'ELV' 'EMR' 'ENPH' 'ETR' 'EOG' 'EPAM'\n",
      " 'EQT' 'EFX' 'EQIX' 'EQR' 'ERIE' 'ESS' 'EL' 'EG' 'EVRG' 'ES' 'EXC' 'EXPE'\n",
      " 'EXPD' 'EXR' 'XOM' 'FFIV' 'FDS' 'FICO' 'FAST' 'FRT' 'FDX' 'FIS' 'FITB'\n",
      " 'FSLR' 'FE' 'FI' 'FMC' 'F' 'FTNT' 'FTV' 'FOXA' 'FOX' 'BEN' 'FCX' 'GRMN'\n",
      " 'IT' 'GE' 'GEHC' 'GEV' 'GEN' 'GNRC' 'GD' 'GIS' 'GM' 'GPC' 'GILD' 'GPN'\n",
      " 'GL' 'GDDY' 'GS' 'HAL' 'HIG' 'HAS' 'HCA' 'DOC' 'HSIC' 'HSY' 'HES' 'HPE'\n",
      " 'HLT' 'HOLX' 'HD' 'HON' 'HRL' 'HST' 'HWM' 'HPQ' 'HUBB' 'HUM' 'HBAN' 'HII'\n",
      " 'IBM' 'IEX' 'IDXX' 'ITW' 'INCY' 'IR' 'PODD' 'INTC' 'ICE' 'IFF' 'IP' 'IPG'\n",
      " 'INTU' 'ISRG' 'IVZ' 'INVH' 'IQV' 'IRM' 'JBHT' 'JBL' 'JKHY' 'J' 'JNJ'\n",
      " 'JCI' 'JPM' 'JNPR' 'K' 'KVUE' 'KDP' 'KEY' 'KEYS' 'KMB' 'KIM' 'KMI' 'KKR'\n",
      " 'KLAC' 'KHC' 'KR' 'LHX' 'LH' 'LRCX' 'LW' 'LVS' 'LDOS' 'LEN' 'LLY' 'LIN'\n",
      " 'LYV' 'LKQ' 'LMT' 'L' 'LOW' 'LULU' 'LYB' 'MTB' 'MPC' 'MKTX' 'MAR' 'MMC'\n",
      " 'MLM' 'MAS' 'MA' 'MTCH' 'MKC' 'MCD' 'MCK' 'MDT' 'MRK' 'META' 'MET' 'MTD'\n",
      " 'MGM' 'MCHP' 'MU' 'MSFT' 'MAA' 'MRNA' 'MHK' 'MOH' 'TAP' 'MDLZ' 'MPWR'\n",
      " 'MNST' 'MCO' 'MS' 'MOS' 'MSI' 'MSCI' 'NDAQ' 'NTAP' 'NFLX' 'NEM' 'NWSA'\n",
      " 'NWS' 'NEE' 'NKE' 'NI' 'NDSN' 'NSC' 'NTRS' 'NOC' 'NCLH' 'NRG' 'NUE'\n",
      " 'NVDA' 'NVR' 'NXPI' 'ORLY' 'OXY' 'ODFL' 'OMC' 'ON' 'OKE' 'ORCL' 'OTIS'\n",
      " 'PCAR' 'PKG' 'PLTR' 'PANW' 'PARA' 'PH' 'PAYX' 'PAYC' 'PYPL' 'PNR' 'PEP'\n",
      " 'PFE' 'PCG' 'PM' 'PSX' 'PNW' 'PNC' 'POOL' 'PPG' 'PPL' 'PFG' 'PG' 'PGR'\n",
      " 'PLD' 'PRU' 'PEG' 'PTC' 'PSA' 'PHM' 'QRVO' 'PWR' 'QCOM' 'DGX' 'RL' 'RJF'\n",
      " 'RTX' 'O' 'REG' 'REGN' 'RF' 'RSG' 'RMD' 'RVTY' 'ROK' 'ROL' 'ROP' 'ROST'\n",
      " 'RCL' 'SPGI' 'CRM' 'SBAC' 'SLB' 'STX' 'SRE' 'NOW' 'SHW' 'SPG' 'SWKS'\n",
      " 'SJM' 'SW' 'SNA' 'SOLV' 'SO' 'LUV' 'SWK' 'SBUX' 'STT' 'STLD' 'STE' 'SYK'\n",
      " 'SMCI' 'SYF' 'SNPS' 'SYY' 'TMUS' 'TROW' 'TTWO' 'TPR' 'TRGP' 'TGT' 'TEL'\n",
      " 'TDY' 'TFX' 'TER' 'TSLA' 'TXN' 'TPL' 'TXT' 'TMO' 'TJX' 'TSCO' 'TT' 'TDG'\n",
      " 'TRV' 'TRMB' 'TFC' 'TYL' 'TSN' 'USB' 'UBER' 'UDR' 'ULTA' 'UNP' 'UAL'\n",
      " 'UPS' 'URI' 'UNH' 'UHS' 'VLO' 'VTR' 'VLTO' 'VRSN' 'VRSK' 'VZ' 'VRTX'\n",
      " 'VTRS' 'VICI' 'V' 'VST' 'VMC' 'WRB' 'GWW' 'WAB' 'WBA' 'WMT' 'DIS' 'WBD'\n",
      " 'WM' 'WAT' 'WEC' 'WFC' 'WELL' 'WST' 'WDC' 'WY' 'WMB' 'WTW' 'WYNN' 'XEL'\n",
      " 'XYL' 'YUM' 'ZBRA' 'ZBH' 'ZTS']\n"
     ]
    }
   ],
   "source": [
    "print(merged_df['Symbol'].unique())"
   ]
  },
  {
   "cell_type": "code",
   "execution_count": 14,
   "metadata": {},
   "outputs": [
    {
     "name": "stdout",
     "output_type": "stream",
     "text": [
      "CSV file 'companies.csv' created successfully!\n"
     ]
    }
   ],
   "source": [
    "\n",
    "tickers = [\n",
    "    'MMM', 'AOS', 'ABT', 'ABBV', 'ACN', 'ADBE', 'AMD', 'AES', 'AFL', 'A', 'APD', 'ABNB',\n",
    "    'AKAM', 'ALB', 'ARE', 'ALGN', 'ALLE', 'LNT', 'ALL', 'GOOGL', 'GOOG', 'MO', 'AMZN',\n",
    "    'AMCR', 'AMTM', 'AEE', 'AEP', 'AXP', 'AIG', 'AMT', 'AWK', 'AMP', 'AME', 'AMGN',\n",
    "    'APH', 'ADI', 'ANSS', 'AON', 'APA', 'AAPL', 'AMAT', 'APTV', 'ACGL', 'ADM', 'ANET',\n",
    "    'AJG', 'AIZ', 'T', 'ATO', 'ADSK', 'ADP', 'AZO', 'AVB', 'AVY', 'AXON', 'BKR', 'BALL',\n",
    "    'BAC', 'BAX', 'BDX', 'BRK-B', 'BBY', 'TECH', 'BIIB', 'BLK', 'BX', 'BK', 'BA', 'BKNG',\n",
    "    'BWA', 'BSX', 'BMY', 'AVGO', 'BR', 'BRO', 'BF-B', 'BLDR', 'BG', 'BXP', 'CHRW',\n",
    "    'CDNS', 'CZR', 'CPT', 'CPB', 'COF', 'CAH', 'KMX', 'CCL', 'CARR', 'CAT', 'CBOE',\n",
    "    'CBRE', 'CDW', 'CE', 'COR', 'CNC', 'CNP', 'CF', 'CRL', 'SCHW', 'CHTR', 'CVX', 'CMG',\n",
    "    'CB', 'CHD', 'CI', 'CINF', 'CTAS', 'CSCO', 'C', 'CFG', 'CLX', 'CME', 'CMS', 'KO',\n",
    "    'CTSH', 'CL', 'CMCSA', 'CAG', 'COP', 'ED', 'STZ', 'CEG', 'COO', 'CPRT', 'GLW',\n",
    "    'CPAY', 'CTVA', 'CSGP', 'COST', 'CTRA', 'CRWD', 'CCI', 'CSX', 'CMI', 'CVS', 'DHR',\n",
    "    'DRI', 'DVA', 'DAY', 'DECK', 'DE', 'DELL', 'DAL', 'DVN', 'DXCM', 'FANG', 'DLR',\n",
    "    'DFS', 'DG', 'DLTR', 'D', 'DPZ', 'DOV', 'DOW', 'DHI', 'DTE', 'DUK', 'DD', 'EMN',\n",
    "    'ETN', 'EBAY', 'ECL', 'EIX', 'EW', 'EA', 'ELV', 'EMR', 'ENPH', 'ETR', 'EOG', 'EPAM',\n",
    "    'EQT', 'EFX', 'EQIX', 'EQR', 'ERIE', 'ESS', 'EL', 'EG', 'EVRG', 'ES', 'EXC', 'EXPE',\n",
    "    'EXPD', 'EXR', 'XOM', 'FFIV', 'FDS', 'FICO', 'FAST', 'FRT', 'FDX', 'FIS', 'FITB',\n",
    "    'FSLR', 'FE', 'FI', 'FMC', 'F', 'FTNT', 'FTV', 'FOXA', 'FOX', 'BEN', 'FCX', 'GRMN',\n",
    "    'IT', 'GE', 'GEHC', 'GEV', 'GEN', 'GNRC', 'GD', 'GIS', 'GM', 'GPC', 'GILD', 'GPN',\n",
    "    'GL', 'GDDY', 'GS', 'HAL', 'HIG', 'HAS', 'HCA', 'DOC', 'HSIC', 'HSY', 'HES', 'HPE',\n",
    "    'HLT', 'HOLX', 'HD', 'HON', 'HRL', 'HST', 'HWM', 'HPQ', 'HUBB', 'HUM', 'HBAN', 'HII',\n",
    "    'IBM', 'IEX', 'IDXX', 'ITW', 'INCY', 'IR', 'PODD', 'INTC', 'ICE', 'IFF', 'IP', 'IPG',\n",
    "    'INTU', 'ISRG', 'IVZ', 'INVH', 'IQV', 'IRM', 'JBHT', 'JBL', 'JKHY', 'J', 'JNJ',\n",
    "    'JCI', 'JPM', 'JNPR', 'K', 'KVUE', 'KDP', 'KEY', 'KEYS', 'KMB', 'KIM', 'KMI', 'KKR',\n",
    "    'KLAC', 'KHC', 'KR', 'LHX', 'LH', 'LRCX', 'LW', 'LVS', 'LDOS', 'LEN', 'LLY', 'LIN',\n",
    "    'LYV', 'LKQ', 'LMT', 'L', 'LOW', 'LULU', 'LYB', 'MTB', 'MPC', 'MKTX', 'MAR', 'MMC',\n",
    "    'MLM', 'MAS', 'MA', 'MTCH', 'MKC', 'MCD', 'MCK', 'MDT', 'MRK', 'META', 'MET', 'MTD',\n",
    "    'MGM', 'MCHP', 'MU', 'MSFT', 'MAA', 'MRNA', 'MHK', 'MOH', 'TAP', 'MDLZ', 'MPWR',\n",
    "    'MNST', 'MCO', 'MS', 'MOS', 'MSI', 'MSCI', 'NDAQ', 'NTAP', 'NFLX', 'NEM', 'NWSA',\n",
    "    'NWS', 'NEE', 'NKE', 'NI', 'NDSN', 'NSC', 'NTRS', 'NOC', 'NCLH', 'NRG', 'NUE',\n",
    "    'NVDA', 'NVR', 'NXPI', 'ORLY', 'OXY', 'ODFL', 'OMC', 'ON', 'OKE', 'ORCL', 'OTIS',\n",
    "    'PCAR', 'PKG', 'PLTR', 'PANW', 'PARA', 'PH', 'PAYX', 'PAYC', 'PYPL', 'PNR', 'PEP',\n",
    "    'PFE', 'PCG', 'PM', 'PSX', 'PNW', 'PNC', 'POOL', 'PPG', 'PPL', 'PFG', 'PG', 'PGR',\n",
    "    'PLD', 'PRU', 'PEG', 'PTC', 'PSA', 'PHM', 'QRVO', 'PWR', 'QCOM', 'DGX', 'RL', 'RJF',\n",
    "    'RTX', 'O', 'REG', 'REGN', 'RF', 'RSG', 'RMD', 'RVTY', 'ROK', 'ROL', 'ROP', 'ROST',\n",
    "    'RCL', 'SPGI', 'CRM', 'SBAC', 'SLB', 'STX', 'SRE', 'NOW', 'SHW', 'SPG', 'SWKS',\n",
    "    'SJM', 'SW', 'SNA', 'SOLV', 'SO', 'LUV', 'SWK', 'SBUX', 'STT', 'STLD', 'STE', 'SYK',\n",
    "    'SMCI', 'SYF', 'SNPS', 'SYY', 'TMUS', 'TROW', 'TTWO', 'TPR', 'TRGP', 'TGT', 'TEL',\n",
    "    'TDY', 'TFX', 'TER', 'TSLA', 'TXN', 'TPL', 'TXT', 'TMO', 'TJX', 'TSCO', 'TT', 'TDG',\n",
    "    'TRV', 'TRMB', 'TFC', 'TYL', 'TSN', 'USB', 'UBER', 'UDR', 'ULTA', 'UNP', 'UAL',\n",
    "    'UPS', 'URI', 'UNH', 'UHS', 'VLO', 'VTR', 'VLTO', 'VRSN', 'VRSK', 'VZ', 'VRTX',\n",
    "    'VTRS', 'VICI', 'V', 'VST', 'VMC', 'WRB', 'GWW', 'WAB', 'WBA', 'WMT', 'DIS', 'WBD',\n",
    "    'WM', 'WAT', 'WEC', 'WFC', 'WELL', 'WST', 'WDC', 'WY', 'WMB', 'WTW', 'WYNN', 'XEL',\n",
    "    'XYL', 'YUM', 'ZBRA', 'ZBH', 'ZTS'\n",
    "]\n",
    "\n",
    "\n",
    "\n",
    "# Fetch company names\n",
    "companies = {}\n",
    "for ticker in tickers:\n",
    "    try:\n",
    "        info = yf.Ticker(ticker).info\n",
    "        companies[ticker] = info.get('shortName', 'N/A')\n",
    "    except:\n",
    "        companies[ticker] = 'N/A'\n",
    "\n",
    "# Convert to DataFrame\n",
    "df = pd.DataFrame(list(companies.items()), columns=['Ticker', 'Company'])\n",
    "\n",
    "# Save to CSV\n",
    "df.to_csv('datasets/companies.csv', index=False)\n",
    "\n",
    "print(\"CSV file 'companies.csv' created successfully!\")\n"
   ]
  },
  {
   "cell_type": "code",
   "execution_count": 20,
   "metadata": {},
   "outputs": [],
   "source": [
    "## I will convert sv files to parquet for efficiency\n",
    "merged_df['Date'] = pd.to_datetime(merged_df['Date'])\n",
    "merged_df.to_parquet(\"datasets/merged.parquet\", engine=\"fastparquet\", compression=\"snappy\")\n",
    "df.to_parquet(\"datasets/companies.parquet\", engine=\"fastparquet\", compression=\"snappy\")\n"
   ]
  }
 ],
 "metadata": {
  "kernelspec": {
   "display_name": "automate",
   "language": "python",
   "name": "python3"
  },
  "language_info": {
   "codemirror_mode": {
    "name": "ipython",
    "version": 3
   },
   "file_extension": ".py",
   "mimetype": "text/x-python",
   "name": "python",
   "nbconvert_exporter": "python",
   "pygments_lexer": "ipython3",
   "version": "3.9.23"
  }
 },
 "nbformat": 4,
 "nbformat_minor": 2
}
